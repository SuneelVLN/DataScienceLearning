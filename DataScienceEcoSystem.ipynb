{
 "cells": [
  {
   "cell_type": "markdown",
   "id": "a25f8894-32ba-48a5-8f25-06006ac87e22",
   "metadata": {},
   "source": [
    "# Data Science Tools and Ecosystem"
   ]
  },
  {
   "cell_type": "markdown",
   "id": "dfe2033a-2837-4236-bb6b-59a5585c5756",
   "metadata": {},
   "source": [
    "## Author: Suneel VLN"
   ]
  },
  {
   "cell_type": "markdown",
   "id": "bdb679bb-5ced-4650-a24e-1616c096767d",
   "metadata": {},
   "source": [
    "In this notebook, Data Science Tools and Ecosystem are summarized"
   ]
  },
  {
   "cell_type": "markdown",
   "id": "c79ab8ab-bf81-4a5d-a2cc-76ca05c4634d",
   "metadata": {},
   "source": [
    "**Objectives:**\n",
    "\n",
    "- List populat languages for data science\n",
    "- List commonly used libraries used by data scientists\n",
    "- Data Science Tools and development environments available\n",
    "- simple arithmetic expressions in python etc."
   ]
  },
  {
   "cell_type": "markdown",
   "id": "13a2073b-35d6-4bb4-8e94-4ab76a0d61d9",
   "metadata": {},
   "source": [
    "Some of the popular languages that Data Scientists use are:\n",
    "\n",
    "1. Python\n",
    "2. R\n",
    "3. SQL\n",
    "4. Scala\n",
    "5. Java\n",
    "6. C++\n",
    "7. Julia"
   ]
  },
  {
   "cell_type": "markdown",
   "id": "29e31a20-72f1-43be-af77-fb718a1c8883",
   "metadata": {},
   "source": [
    "Some of the commonly used libraries used by Data Sciencts include:\n",
    "\n",
    "- Pandas\n",
    "- NumPy\n",
    "- Matplotlib\n",
    "- Keras\n",
    "- TensorFlow\n",
    "- Vegas\n",
    "- ggplot2"
   ]
  },
  {
   "cell_type": "markdown",
   "id": "65e9896c-a3f9-42aa-a7c4-df15270801d0",
   "metadata": {},
   "source": [
    "|Data Science Tools|\n",
    "--------------------\n",
    "|Jupyter Notebooks|\n",
    "|Jupyter Lite|\n",
    "|GoogleCoLab|\n",
    "|Anaconda|\n",
    "|RStudio|"
   ]
  },
  {
   "cell_type": "markdown",
   "id": "28507cab-0ee1-4b4a-9414-91075701ca13",
   "metadata": {},
   "source": [
    "### Below are a few examples of evaluating arthemetic expressions in Python."
   ]
  },
  {
   "cell_type": "code",
   "execution_count": 6,
   "id": "2334e6d3-bf7c-42cb-ab85-586abd4cd92c",
   "metadata": {},
   "outputs": [
    {
     "data": {
      "text/plain": [
       "17"
      ]
     },
     "execution_count": 6,
     "metadata": {},
     "output_type": "execute_result"
    }
   ],
   "source": [
    "# This a simple arithmetic expression to multiple then add integers\n",
    "(3 * 4) + 5"
   ]
  },
  {
   "cell_type": "code",
   "execution_count": 7,
   "id": "c2335470-207c-4edd-8e0c-18b034feecf3",
   "metadata": {},
   "outputs": [
    {
     "data": {
      "text/plain": [
       "3.3333333333333335"
      ]
     },
     "execution_count": 7,
     "metadata": {},
     "output_type": "execute_result"
    }
   ],
   "source": [
    "# This will convert 200 minutes to hours by deviding by 60\n",
    "\n",
    "200/60"
   ]
  }
 ],
 "metadata": {
  "kernelspec": {
   "display_name": "Python 3 (ipykernel)",
   "language": "python",
   "name": "python3"
  },
  "language_info": {
   "codemirror_mode": {
    "name": "ipython",
    "version": 3
   },
   "file_extension": ".py",
   "mimetype": "text/x-python",
   "name": "python",
   "nbconvert_exporter": "python",
   "pygments_lexer": "ipython3",
   "version": "3.9.2"
  }
 },
 "nbformat": 4,
 "nbformat_minor": 5
}
